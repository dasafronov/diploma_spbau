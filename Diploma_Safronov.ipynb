{
  "nbformat": 4,
  "nbformat_minor": 0,
  "metadata": {
    "colab": {
      "provenance": [],
      "collapsed_sections": [
        "it7fHMo-mYya",
        "CpFwISMGYKxE",
        "1r_m295WMDp-",
        "E4b3ApjiMJoj",
        "ZROtPkqBMQkj",
        "KBCe3TSqMTeG",
        "GrqFDFS4MWnS",
        "M0RGq5WbMZjE",
        "MGEyV1O_8TuC",
        "bA1AaoDM8te0",
        "ZL7Rs5ik9LiH"
      ]
    },
    "kernelspec": {
      "name": "python3",
      "display_name": "Python 3"
    },
    "language_info": {
      "name": "python"
    }
  },
  "cells": [
    {
      "cell_type": "markdown",
      "source": [
        "#Hough 1.0\n"
      ],
      "metadata": {
        "id": "it7fHMo-mYya"
      }
    },
    {
      "cell_type": "code",
      "execution_count": null,
      "metadata": {
        "id": "KxDGmroMkCbz"
      },
      "outputs": [],
      "source": [
        "import cv2\n",
        "import numpy as np"
      ]
    },
    {
      "cell_type": "code",
      "source": [
        "def roi(img, vertices):\n",
        "    mask = np.zeros_like(img)\n",
        "    cv2.fillPoly(mask, vertices, 255)\n",
        "    masked = cv2.bitwise_and(img, mask)\n",
        "    return masked"
      ],
      "metadata": {
        "id": "hu5CKlnTlEox"
      },
      "execution_count": null,
      "outputs": []
    },
    {
      "cell_type": "code",
      "source": [
        "def draw_lines(img,lines):\n",
        "    for line in lines:\n",
        "        coords = line[0]\n",
        "        cv2.line(img, (coords[0], coords[1]), (coords[2], coords[3]), [255,255,255], 3)"
      ],
      "metadata": {
        "id": "c4E690nKlUl7"
      },
      "execution_count": null,
      "outputs": []
    },
    {
      "cell_type": "code",
      "source": [
        "def process_img(original_image):\n",
        "    processed_img = cv2.cvtColor(original_image, cv2.COLOR_BGR2GRAY)\n",
        "    processed_img = cv2.Canny(processed_img, threshold1=200, threshold2=300)\n",
        "\n",
        "    vertices = np.array([[10,500],[10,300],[300,200],[500,200],[800,300],[800,500],\n",
        "                         ], np.int32)\n",
        "    processed_img = roi(processed_img, [vertices])\n",
        "    # more info: http://docs.opencv.org/3.0-beta/doc/py_tutorials/py_imgproc/py_houghlines/py_houghlines.html\n",
        "    #                          edges       rho   theta   thresh         # min length, max gap:\n",
        "    lines = cv2.HoughLinesP(processed_img, 1, np.pi/180, 180,      20,         15)\n",
        "    draw_lines(processed_img,lines)\n",
        "    return processed_img"
      ],
      "metadata": {
        "id": "vtO_IpcclMZq"
      },
      "execution_count": null,
      "outputs": []
    },
    {
      "cell_type": "code",
      "source": [
        "screen = cv2.imread('thread2.jpg')\n",
        "new_screen = process_img(screen)\n",
        "cv2.imshow('window', new_screen)"
      ],
      "metadata": {
        "id": "-C0zwvntlSWO"
      },
      "execution_count": null,
      "outputs": []
    },
    {
      "cell_type": "code",
      "source": [
        "import cv2\n",
        "import numpy as np\n",
        "\n",
        "img = cv2.imread('thread2.jpg')\n",
        "gray = cv2.cvtColor(img,cv2.COLOR_BGR2GRAY)\n",
        "edges = cv2.Canny(gray,50,150,apertureSize = 3)\n",
        "minLineLength = 100\n",
        "maxLineGap = 10\n",
        "lines = cv2.HoughLinesP(edges,1,np.pi/180,100,minLineLength,maxLineGap)"
      ],
      "metadata": {
        "id": "wrAgB_bOm1E5"
      },
      "execution_count": null,
      "outputs": []
    },
    {
      "cell_type": "code",
      "source": [
        "print(lines)"
      ],
      "metadata": {
        "id": "4Gj1qcNVozk7"
      },
      "execution_count": null,
      "outputs": []
    },
    {
      "cell_type": "code",
      "source": [
        "for x1,y1,x2,y2 in lines[0]:\n",
        "    cv2.line(img,(x1,y1),(x2,y2),(0,255,0),5)\n",
        "\n",
        "cv2.imwrite('houghlines2.jpg',img)"
      ],
      "metadata": {
        "id": "O9TggjoTnq7S"
      },
      "execution_count": null,
      "outputs": []
    },
    {
      "cell_type": "code",
      "source": [
        "import numpy as np\n",
        "import cv2 as cv\n",
        "from matplotlib import pyplot as plt\n",
        "img = cv2.imread('thread2.jpg', cv2.IMREAD_GRAYSCALE)\n",
        "assert img is not None, \"file could not be read, check with os.path.exists()\"\n",
        "edges = cv.Canny(img, threshold1=10, threshold2=10)\n",
        "\n",
        "minLineLength = 0\n",
        "maxLineGap = 10\n",
        "lines = cv2.HoughLines(edges,1,np.pi/180,100,minLineLength,maxLineGap)\n",
        "for line in lines:\n",
        "    rho,theta = line[0]\n",
        "    a =np.cos(theta)\n",
        "    b = np.sin(theta)\n",
        "\n",
        "    x0 = a*rho\n",
        "    y0 = b*rho\n",
        "\n",
        "    x1 = int(x0+1000*(-b))\n",
        "    y1 = int(y0 + 1000*(a))\n",
        "    x2 = int(x0-1000*(-b))\n",
        "    y2 = int(y0 - 1000 * (1))\n",
        "\n",
        "\n",
        "    cv2.line(img, (x1,y1), (x2,y2), (0,0,255), 2)\n",
        "\n",
        "\n",
        "cv2.imwrite('houghlines.jpg',img)\n",
        "\n",
        "plt.subplot(121),plt.imshow(img)"
      ],
      "metadata": {
        "id": "vdVYAo77zom4"
      },
      "execution_count": null,
      "outputs": []
    },
    {
      "cell_type": "code",
      "source": [
        "print(lines.size)"
      ],
      "metadata": {
        "id": "1Lnjm1yc0yLC"
      },
      "execution_count": null,
      "outputs": []
    },
    {
      "cell_type": "code",
      "source": [
        "lines"
      ],
      "metadata": {
        "id": "VqQm58wbz1rM"
      },
      "execution_count": null,
      "outputs": []
    },
    {
      "cell_type": "code",
      "source": [
        "import cv2\n",
        "import numpy as np\n",
        "\n",
        "\n",
        "img = cv2.imread(\"thread.jpg\")\n",
        "gray = cv2.cvtColor(img, cv2.COLOR_BGR2GRAY)\n",
        "gray = np.float32(gray)\n",
        "\n",
        "\n",
        "\n",
        "dst = cv2.cornerHarris(gray, 2, 3,0.05)\n",
        "\n",
        "img[dst>0.01 * dst.max()] = [0,0,255]\n",
        "\n",
        "plt.subplot(121),plt.imshow(img)"
      ],
      "metadata": {
        "id": "Y2Qaq1B-9uOd"
      },
      "execution_count": null,
      "outputs": []
    },
    {
      "cell_type": "markdown",
      "source": [
        "# Алгоритм Хафа версия 2.0."
      ],
      "metadata": {
        "id": "CpFwISMGYKxE"
      }
    },
    {
      "cell_type": "code",
      "source": [
        "import sys\n",
        "import math\n",
        "import cv2 as cv\n",
        "import numpy as np\n",
        "import matplotlib.pyplot as plt"
      ],
      "metadata": {
        "id": "q0zmTitJYQEn"
      },
      "execution_count": null,
      "outputs": []
    },
    {
      "cell_type": "code",
      "source": [
        "filename = 'thread_9/third_attempt withoutRL.jpg'"
      ],
      "metadata": {
        "id": "WYy6IiyTZTyz"
      },
      "execution_count": null,
      "outputs": []
    },
    {
      "cell_type": "code",
      "source": [
        "# Loads an image\n",
        "src = cv.imread(cv.samples.findFile(filename), cv.IMREAD_GRAYSCALE)\n",
        "#src = np.rot90(src)\n"
      ],
      "metadata": {
        "id": "poVVy7HhZiJO"
      },
      "execution_count": null,
      "outputs": []
    },
    {
      "cell_type": "code",
      "source": [
        "# Check if image is loaded fine\n",
        "if src is None:\n",
        "    print ('Error opening image!')\n",
        "    print ('Usage: hough_lines.py [image_name -- default ' + filename + '] \\n')"
      ],
      "metadata": {
        "id": "qu5K9SpJZlH4"
      },
      "execution_count": null,
      "outputs": []
    },
    {
      "cell_type": "code",
      "source": [
        "dst = cv.Canny(src, 50, 200, None, 3)"
      ],
      "metadata": {
        "id": "rqmZImQRZxQw"
      },
      "execution_count": null,
      "outputs": []
    },
    {
      "cell_type": "code",
      "source": [
        "# Copy edges to the images that will display the results in BGR\n",
        "cdst = cv.cvtColor(dst, cv.COLOR_GRAY2BGR)\n",
        "cdstP = np.copy(cdst)"
      ],
      "metadata": {
        "id": "IwJn4Lt7Zx5K"
      },
      "execution_count": null,
      "outputs": []
    },
    {
      "cell_type": "code",
      "source": [
        "lines = cv.HoughLines(dst, 1, np.pi / 180, 150, None, 0, 0)\n",
        "\n",
        "if lines is not None:\n",
        "    for i in range(0, len(lines)):\n",
        "        rho = lines[i][0][0]\n",
        "        theta = lines[i][0][1]\n",
        "        a = math.cos(theta)\n",
        "        b = math.sin(theta)\n",
        "        x0 = a * rho\n",
        "        y0 = b * rho\n",
        "        pt1 = (int(x0 + 1000*(-b)), int(y0 + 1000*(a)))\n",
        "        pt2 = (int(x0 - 1000*(-b)), int(y0 - 1000*(a)))\n",
        "        cv.line(cdst, pt1, pt2, (0,0,255), 3, cv.LINE_AA)"
      ],
      "metadata": {
        "id": "N_cWUL2wZ4UX"
      },
      "execution_count": null,
      "outputs": []
    },
    {
      "cell_type": "code",
      "source": [
        "import math\n",
        "def getAngleFromTwoPoints(x1, y1, x2, y2):\n",
        "  tg = abs(y2 - y1) / abs(x2 - x1)\n",
        "  #print(tg)\n",
        "  return math.degrees(math.atan(tg))"
      ],
      "metadata": {
        "id": "eltdwhmGLubX"
      },
      "execution_count": null,
      "outputs": []
    },
    {
      "cell_type": "code",
      "source": [
        "x1 = 255\n",
        "y1 = 249\n",
        "x2 = 0\n",
        "y2 = 6\n",
        "\n",
        "print(getAngleFromTwoPoints(x1,y1,x2,y2))"
      ],
      "metadata": {
        "id": "rfbojgRuQwj3"
      },
      "execution_count": null,
      "outputs": []
    },
    {
      "cell_type": "code",
      "source": [
        "linesP = cv.HoughLinesP(dst, 1, np.pi / 180, 50, None, 50, 10)\n",
        "sum_of_angles = 0\n",
        "counter = 0\n",
        "if linesP is not None:\n",
        "    for i in range(0, len(linesP)):\n",
        "        l = linesP[i][0]\n",
        "        x1 = l[0]\n",
        "        y1 = l[1]\n",
        "        x2 = l[2]\n",
        "        y2 = l[3]\n",
        "        angle = getAngleFromTwoPoints(x1, y1, x2, y2)\n",
        "        #print(angle)\n",
        "        #print(l)\n",
        "        if angle > 10 and angle < 80:\n",
        "        # if (l[1] != l[3]) and (l[0]!=l[2]):\n",
        "          print(l)\n",
        "          print(angle)\n",
        "          sum_of_angles += angle\n",
        "          counter += 1\n",
        "          cv.line(cdstP, (l[0], l[1]), (l[2], l[3]), (0,0,255), 3, cv.LINE_AA)\n",
        "print(f'best angle={sum_of_angles/counter}')"
      ],
      "metadata": {
        "id": "rZw8MGM2aGrH"
      },
      "execution_count": null,
      "outputs": []
    },
    {
      "cell_type": "code",
      "source": [
        "plt.subplot(121),plt.imshow(cdst)\n",
        "\n",
        "plt.subplot(121),plt.imshow(src)\n",
        "\n",
        "plt.subplot(121),plt.imshow(cdstP)"
      ],
      "metadata": {
        "id": "K6FgvORyaT2P"
      },
      "execution_count": null,
      "outputs": []
    },
    {
      "cell_type": "code",
      "source": [
        "linesP"
      ],
      "metadata": {
        "id": "Vdz6MB_hy6KT"
      },
      "execution_count": null,
      "outputs": []
    },
    {
      "cell_type": "markdown",
      "source": [
        "# Kofnov algorithm"
      ],
      "metadata": {
        "id": "46LZasy8TI1j"
      }
    },
    {
      "cell_type": "code",
      "source": [
        "import numpy as np\n",
        "import math\n",
        "from PIL import Image as im\n",
        "from PIL import Image, ImageDraw\n",
        "import os"
      ],
      "metadata": {
        "id": "zt5ckHKVNAaC"
      },
      "execution_count": null,
      "outputs": []
    },
    {
      "cell_type": "markdown",
      "source": [
        "##Function definition"
      ],
      "metadata": {
        "id": "4tO0VbEjMnpX"
      }
    },
    {
      "cell_type": "markdown",
      "source": [
        "### шаг 1.1. и 1.2."
      ],
      "metadata": {
        "id": "1r_m295WMDp-"
      }
    },
    {
      "cell_type": "code",
      "source": [
        "# шаг 1.1. и 1.2.\n",
        "def cropImageForFFT(image):\n",
        "    #image = cv2.imread('thread.jpg', 0)\n",
        "    image = np.squeeze(image)\n",
        "    #print(image.shape)\n",
        "    N, M, Colors = image.shape\n",
        "    cropN = 2**(len(bin(N)) - 3)\n",
        "    cropM = 2**(len(bin(M)) - 3)\n",
        "    cropSize = min(cropN, cropM)\n",
        "    #print(f\"{cropN} \\n{cropM}\")\n",
        "    #print(image.shape)\n",
        "\n",
        "    x1 = (N - cropSize) // 2\n",
        "    x2 = x1 + cropSize\n",
        "\n",
        "    y1 = (M - cropSize) // 2\n",
        "    y2 = y1 + cropSize\n",
        "\n",
        "    cropped_image = image[x1:x2, y1:y2]\n",
        "    return cropped_image\n"
      ],
      "metadata": {
        "id": "YXRlukbiNwMM"
      },
      "execution_count": null,
      "outputs": []
    },
    {
      "cell_type": "markdown",
      "source": [
        "### шаг 1.3., 1.5."
      ],
      "metadata": {
        "id": "E4b3ApjiMJoj"
      }
    },
    {
      "cell_type": "code",
      "source": [
        "# шаг 1.3., 1.5.\n",
        "def getNpArrayMonochromeFromImage(image):\n",
        "  np_img = np.array(image)\n",
        "  new_arr = np.eye(np_img.shape[0], np_img.shape[1])\n",
        "  for i in range(np_img.shape[0]):\n",
        "    for j in range(np_img.shape[1]):\n",
        "      average_pixel = (int(np_img[i,j,0]) + int(np_img[i,j,1]) + int(np_img[i,j,2])) // 3\n",
        "      #if average_pixel != 0:\n",
        "        #print(\"pixel: \", np_img[i,j,0], \",\", np_img[i,j,1],\",\",np_img[i,j,2], \" average: \", average_pixel, \" sum =\", (np_img[i,j,0] + np_img[i,j,1] + np_img[i,j,2]))\n",
        "      new_arr[i,j] = average_pixel\n",
        "  return new_arr"
      ],
      "metadata": {
        "id": "yobaoNUJPz-C"
      },
      "execution_count": null,
      "outputs": []
    },
    {
      "cell_type": "markdown",
      "source": [
        "### шаг 1.4."
      ],
      "metadata": {
        "id": "ZROtPkqBMQkj"
      }
    },
    {
      "cell_type": "code",
      "source": [
        "# шаг 1.4.\n",
        "def applyLightSpotOnImage(np_arr):\n",
        "  N = np_arr.shape[0]\n",
        "  R_min = N / 64\n",
        "  R_max = N * 3 / 8\n",
        "  sigma = 7\n",
        "  for i in range(N):\n",
        "    for j in range(N):\n",
        "      xi = (-1 * N / 2 + j)\n",
        "      eta = (N / 2 - i)\n",
        "      if xi**2 + eta**2 > R_max**2:\n",
        "        np_arr[i,j] = 0\n",
        "      elif xi**2 + eta**2 > R_min**2:\n",
        "        np_arr[i,j] = np_arr[i,j] * math.exp((-1 * sigma * (R_min - math.sqrt(xi**2 + eta**2))**2) / (2 * R_max**2))\n",
        "      #else:\n",
        "        #print(\"i,j: \", i,\" \", j, \" xi, eta:\", xi, \" \", eta)\n",
        "        #do nothing bcs point is in a R_min circle\n",
        "  return np_arr"
      ],
      "metadata": {
        "id": "WdvMMYXN29Z-"
      },
      "execution_count": null,
      "outputs": []
    },
    {
      "cell_type": "markdown",
      "source": [
        "### шаг 1.6. и 1.7."
      ],
      "metadata": {
        "id": "KBCe3TSqMTeG"
      }
    },
    {
      "cell_type": "code",
      "source": [
        "# шаг 1.6. и 1.7.\n",
        "\n",
        "def computeFFTOnRowsAndColumns(np_arr):\n",
        "  new_arr = np.eye(np_arr.shape[0], np_arr.shape[1], dtype=np.complex_)\n",
        "\n",
        "  #print(\"start rows\")\n",
        "\n",
        "  # applying fft and ifft to rows\n",
        "  for i in range(np_arr.shape[0]):\n",
        "    row = np_arr[i, :]\n",
        "    temp_arrays = np.array_split(row, 2)\n",
        "    # temp_arrays[0] -- first half\n",
        "    # temp_arrays[1] -- second half\n",
        "    fft_result = np.fft.fft(temp_arrays[1])\n",
        "    ifft_result = np.fft.ifft(temp_arrays[0])\n",
        "    # concat ifft + fft and put the sum into new_arr row\n",
        "    temp_row = np.concatenate((ifft_result, fft_result), axis=None)\n",
        "    # if i % 100 == 0:\n",
        "    #   print(\"-->\", temp_row, \" row\")\n",
        "    #   print(\"-->\", ifft_result, \" first half\")\n",
        "    #   print(\"-->\", fft_result, \" second half\")\n",
        "    new_arr[i, :] = temp_row\n",
        "\n",
        "\n",
        "  #print(\"end of rows and start columns\")\n",
        "\n",
        "  # applying fft and ifft to columns\n",
        "  for i in range(new_arr.shape[1]):\n",
        "    column = new_arr[:, i]\n",
        "    temp_arrays = np.array_split(column, 2)\n",
        "\n",
        "    # temp_arrays[0] -- first half\n",
        "    # temp_arrays[1] -- second half\n",
        "    fft_result = np.fft.fft(temp_arrays[1])\n",
        "    ifft_result = np.fft.ifft(temp_arrays[0])\n",
        "    # concat ifft + fft and put the sum into new_arr row\n",
        "    temp_column = np.concatenate((ifft_result, fft_result), axis=None)\n",
        "    # if i == 100:\n",
        "    #   print(i)\n",
        "    #   print(\"-->\", temp_column, \" column\")\n",
        "    #   print(\"-->\", ifft_result, \" first half\")\n",
        "    #   print(\"-->\", fft_result, \" second half\")\n",
        "    new_arr[:, i] = temp_column\n",
        "\n",
        "  return new_arr"
      ],
      "metadata": {
        "id": "x5d9zlgsTQjP"
      },
      "execution_count": null,
      "outputs": []
    },
    {
      "cell_type": "markdown",
      "source": [
        "### шаг 1.8."
      ],
      "metadata": {
        "id": "GrqFDFS4MWnS"
      }
    },
    {
      "cell_type": "code",
      "source": [
        "# шаг 1.8.\n",
        "\n",
        "def getArrayOfBrightnessFromArrayOfComplex(array_of_complex):\n",
        "  array_of_brightness = np.eye(array_of_complex.shape[0], array_of_complex.shape[1])\n",
        "  for i in range(array_of_complex.shape[0]):\n",
        "    for j in range(array_of_complex.shape[1]):\n",
        "      temp_brightness = array_of_complex[i,j] * np.conjugate(array_of_complex[i,j])# // 1\n",
        "      array_of_brightness[i,j] = temp_brightness\n",
        "      if i==510 and j == 510:\n",
        "        print(temp_brightness,' ', array_of_complex[i,j], ' ', array_of_brightness[i,j] )\n",
        "\n",
        "\n",
        "\n",
        "  return array_of_brightness"
      ],
      "metadata": {
        "id": "XtSzbPOEMEGY"
      },
      "execution_count": null,
      "outputs": []
    },
    {
      "cell_type": "markdown",
      "source": [
        "### шаг 1.9."
      ],
      "metadata": {
        "id": "M0RGq5WbMZjE"
      }
    },
    {
      "cell_type": "code",
      "source": [
        "# шаг 1.9.\n",
        "def getImageFromMonochromeNpArray(np_arr):\n",
        "  #print(np_arr[0,0])\n",
        "  img = im.fromarray(np_arr)\n",
        "  if img.mode != 'RGB':\n",
        "     img = img.convert('RGB')\n",
        "  return img"
      ],
      "metadata": {
        "id": "9p--rsqlRcMl"
      },
      "execution_count": null,
      "outputs": []
    },
    {
      "cell_type": "markdown",
      "source": [
        "###шаг 2.1 (яркость)"
      ],
      "metadata": {
        "id": "MGEyV1O_8TuC"
      }
    },
    {
      "cell_type": "code",
      "source": [
        "def getAverageBrightness(np_arr):\n",
        "  counter = 0\n",
        "  sum = 0\n",
        "  N = np_arr.shape[0]\n",
        "  M = np_arr.shape[1]\n",
        "  for i in range(N):\n",
        "    for j in range(M):\n",
        "      sum = sum + np_arr[i,j]\n",
        "      counter = counter + 1\n",
        "\n",
        "  return sum / counter"
      ],
      "metadata": {
        "id": "5uaL9BAc4ihR"
      },
      "execution_count": null,
      "outputs": []
    },
    {
      "cell_type": "code",
      "source": [
        "def setAverageBrightnesses(np_arr):\n",
        "  N = np_arr.shape[0]\n",
        "  M = np_arr.shape[1]\n",
        "  averageBrightness = getAverageBrightness(np_arr)\n",
        "  for i in range(N):\n",
        "    for j in range(M):\n",
        "      if np_arr[i,j] >= averageBrightness:\n",
        "        np_arr[i,j] = 255\n",
        "      else:\n",
        "        np_arr[i,j] = 0\n",
        "  return np_arr"
      ],
      "metadata": {
        "id": "OY06INaG4lEK"
      },
      "execution_count": null,
      "outputs": []
    },
    {
      "cell_type": "markdown",
      "source": [
        "###шаг 2.2 (измеряем угол)"
      ],
      "metadata": {
        "id": "bA1AaoDM8te0"
      }
    },
    {
      "cell_type": "code",
      "source": [
        "def getOppositeXY(x, y, N):\n",
        "  return abs(x + (-1)*(N-1)), abs(y + (-1)*(N-1))"
      ],
      "metadata": {
        "id": "nRSqclwfWZzz"
      },
      "execution_count": null,
      "outputs": []
    },
    {
      "cell_type": "code",
      "source": [
        "def getAngleOfBrightestLine(np_arr):\n",
        "  N = np_arr.shape[0]\n",
        "  # width = N\n",
        "  # height = N\n",
        "  # width, height = image.size\n",
        "  # N = width\n",
        "  # np_arr = getNpArrayMonochromeFromImage(image)\n",
        "  P = N * 4 - 4\n",
        "  eachAngle = 360 / P\n",
        "  max_sum = -1\n",
        "  angle = -1\n",
        "  x1 = -1\n",
        "  y1 = -1\n",
        "  x2 = -1\n",
        "  y2 = -1\n",
        "  list_points_to_show = []\n",
        "  temp_array_of_points = []\n",
        "\n",
        "  # down right\n",
        "  for x in range(N // 2, N):\n",
        "    currentAngle = eachAngle * ((x -1 * (N // 2)) + 1)\n",
        "    sum_of_brightnesses = 0\n",
        "    if currentAngle < 10 or currentAngle > 80:\n",
        "      continue\n",
        "    y = N - 1\n",
        "    oppositeX, oppositeY = getOppositeXY(x, y, N)\n",
        "    width = abs(x - oppositeX) + 1\n",
        "    height = abs(y - oppositeY) + 1\n",
        "    #print(f'x={x}, oppositeX={oppositeX}, y={y}, oppositeY={oppositeY}, height={height}, width={width}')\n",
        "    counter = height // width\n",
        "    remainder = height % width\n",
        "    currentPointX = oppositeX\n",
        "    currentPointY = oppositeY\n",
        "    half_remainder = remainder // 2\n",
        "    temp_array_of_points.clear()\n",
        "    for i in range(height):\n",
        "      temp_array_of_points.append((currentPointX, currentPointY))\n",
        "      if i == height // 2:\n",
        "        half_remainder = remainder // 2\n",
        "      #print(f'currentPointX={currentPointX}, currentPointY={currentPointY}, counter={counter}')\n",
        "      sum_of_brightnesses += np_arr[currentPointX, currentPointY]\n",
        "      counter = counter - 1\n",
        "      if counter == 0:\n",
        "        if half_remainder > 0:\n",
        "          counter = height // width + 1\n",
        "          half_remainder -= 1\n",
        "        else:\n",
        "          counter = height // width\n",
        "        currentPointX += 1\n",
        "      currentPointY += 1\n",
        "    # print(f'angle={currentAngle}, sum={sum_of_brightnesses}, x={x}, y={y}, oppositeX={oppositeX}, oppositeY={oppositeY}')\n",
        "    if sum_of_brightnesses > max_sum:\n",
        "      list_points_to_show = temp_array_of_points.copy()\n",
        "      max_sum = sum_of_brightnesses\n",
        "      angle = currentAngle\n",
        "      x1 = x\n",
        "      y1 = y\n",
        "      x2 = oppositeX\n",
        "      y2 = oppositeY\n",
        "\n",
        "  # right right down\n",
        "  for y in range(N // 2, N-1):\n",
        "    currentAngle = 45 + eachAngle * (N - y - 1)\n",
        "    sum_of_brightnesses = 0\n",
        "    if currentAngle > 80 or currentAngle < 10:\n",
        "      continue\n",
        "    x = N - 1\n",
        "    oppositeX, oppositeY = getOppositeXY(x, y, N)\n",
        "    width = abs(x - oppositeX) + 1\n",
        "    height = abs(y - oppositeY) + 1\n",
        "    counter = width // height\n",
        "    remainder = width % height\n",
        "    currentPointX = oppositeX\n",
        "    currentPointY = oppositeY\n",
        "    half_remainder = remainder // 2\n",
        "    temp_array_of_points.clear()\n",
        "    for i in range(width):\n",
        "      temp_array_of_points.append((currentPointX, currentPointY))\n",
        "      if i == width // 2:\n",
        "        half_remainder = remainder // 2\n",
        "      sum_of_brightnesses += np_arr[currentPointX, currentPointY]\n",
        "      counter = counter - 1\n",
        "      if counter == 0:\n",
        "        if half_remainder > 0:\n",
        "          counter = width // height + 1\n",
        "          half_remainder -= 1\n",
        "        else:\n",
        "          counter = width // height\n",
        "        currentPointY += 1\n",
        "      currentPointX += 1\n",
        "    #print(f'angle={currentAngle}, sum={sum_of_brightnesses}')\n",
        "    # print(f'angle={currentAngle}, sum={sum_of_brightnesses}, x={x}, y={y}, oppositeX={oppositeX}, oppositeY={oppositeY}')\n",
        "    if sum_of_brightnesses > max_sum:\n",
        "      list_points_to_show = temp_array_of_points.copy()\n",
        "      max_sum = sum_of_brightnesses\n",
        "      angle = currentAngle\n",
        "      x1 = x\n",
        "      y1 = y\n",
        "      x2 = oppositeX\n",
        "      y2 = oppositeY\n",
        "\n",
        "  # right right up\n",
        "  for y in range(N // 2):\n",
        "    currentAngle = eachAngle * (N // 2 - y)\n",
        "    sum_of_brightnesses = 0\n",
        "    if currentAngle < 10 or currentAngle > 80:\n",
        "      continue\n",
        "    x = N - 1\n",
        "    oppositeX, oppositeY = getOppositeXY(x, y, N)\n",
        "    width = abs(x - oppositeX) + 1\n",
        "    height = abs(y - oppositeY) + 1\n",
        "    counter = width // height\n",
        "    remainder = width % height\n",
        "    currentPointX = oppositeX\n",
        "    currentPointY = oppositeY\n",
        "    half_remainder = remainder // 2\n",
        "    temp_array_of_points.clear()\n",
        "    for i in range(width):\n",
        "      temp_array_of_points.append((currentPointX, currentPointY))\n",
        "      if i == width // 2:\n",
        "        half_remainder = remainder // 2\n",
        "      sum_of_brightnesses += np_arr[currentPointX, currentPointY]\n",
        "      counter = counter - 1\n",
        "      # if currentAngle == 22.191780821917806:\n",
        "      #   print(' bright ', np_arr[currentPointX, currentPointY], ' x=', currentPointX, ' y=', currentPointY )\n",
        "      if counter == 0:\n",
        "        if half_remainder > 0:\n",
        "          counter = width // height + 1\n",
        "          half_remainder -= 1\n",
        "        else:\n",
        "          counter = width // height\n",
        "        currentPointY -= 1\n",
        "      currentPointX += 1\n",
        "    #print(f'angle={currentAngle}, sum={sum_of_brightnesses}')\n",
        "    # print(f'angle={currentAngle}, sum={sum_of_brightnesses}, x={x}, y={y}, oppositeX={oppositeX}, oppositeY={oppositeY}')\n",
        "    if sum_of_brightnesses > max_sum:\n",
        "      list_points_to_show = temp_array_of_points.copy()\n",
        "      max_sum = sum_of_brightnesses\n",
        "      angle = currentAngle\n",
        "      x1 = x\n",
        "      y1 = y\n",
        "      x2 = oppositeX\n",
        "      y2 = oppositeY\n",
        "\n",
        "  # top right\n",
        "  for x in range(N // 2, N - 1):\n",
        "    currentAngle = 45 + eachAngle * (N - x - 1)\n",
        "    # if currentAngle == 74.64705882352942:\n",
        "    #   print(sum_of_brightnesses)\n",
        "    sum_of_brightnesses = 0\n",
        "    if currentAngle > 80 or currentAngle < 10:\n",
        "      continue\n",
        "    y = 0\n",
        "    oppositeX, oppositeY = getOppositeXY(x, y, N)\n",
        "    width = abs(x - oppositeX) + 1\n",
        "    height = abs(y - oppositeY) + 1\n",
        "    counter = height // width\n",
        "    remainder = height % width\n",
        "    currentPointX = oppositeX\n",
        "    currentPointY = oppositeY\n",
        "    half_remainder = remainder // 2\n",
        "    temp_array_of_points.clear()\n",
        "    for i in range(height):\n",
        "      temp_array_of_points.append((currentPointX, currentPointY))\n",
        "      if i == height // 2:\n",
        "        half_remainder = remainder // 2\n",
        "      #if currentAngle == 74.64705882352942:\n",
        "        #print(' brihgt', np_arr[currentPointX, currentPointY], ' x=', currentPointX, ' ', currentPointY )\n",
        "      counter = counter - 1\n",
        "      sum_of_brightnesses += np_arr[currentPointX, currentPointY]\n",
        "      if counter == 0:\n",
        "        if half_remainder > 0:\n",
        "          counter = height // width + 1\n",
        "          half_remainder -= 1\n",
        "        else:\n",
        "          counter = height // width\n",
        "        currentPointX += 1\n",
        "      currentPointY -= 1\n",
        "    #print(f'angle={currentAngle}, sum={sum_of_brightnesses}')\n",
        "    # print(f'angle={currentAngle}, sum={sum_of_brightnesses}, x={x}, y={y}, oppositeX={oppositeX}, oppositeY={oppositeY}')\n",
        "    if sum_of_brightnesses > max_sum:\n",
        "      list_points_to_show = temp_array_of_points.copy()\n",
        "      max_sum = sum_of_brightnesses\n",
        "      angle = currentAngle\n",
        "      x1 = x\n",
        "      y1 = y\n",
        "      x2 = oppositeX\n",
        "      y2 = oppositeY\n",
        "\n",
        "\n",
        "  return angle, x1, y1, x2, y2, list_points_to_show"
      ],
      "metadata": {
        "id": "RGnO4XGdNsof"
      },
      "execution_count": null,
      "outputs": []
    },
    {
      "cell_type": "markdown",
      "source": [
        "###шаг2.3 (рисуем прямую)"
      ],
      "metadata": {
        "id": "ZL7Rs5ik9LiH"
      }
    },
    {
      "cell_type": "code",
      "source": [
        "def drawRedLineOnImage(image, x1, y1, x2, y2):\n",
        "  draw = ImageDraw.Draw(image)\n",
        "  draw.line((y1,x1,y2,x2), fill='blue', width=5)\n",
        "  return image"
      ],
      "metadata": {
        "id": "Frptrsvhj-R8"
      },
      "execution_count": null,
      "outputs": []
    },
    {
      "cell_type": "markdown",
      "source": [
        "### Custom Solution"
      ],
      "metadata": {
        "id": "IFNrsAgf4E-3"
      }
    },
    {
      "cell_type": "code",
      "source": [
        "# Обрезаем картинку и возвращаем массив\n",
        "def getNpArrayFromImageWithCrop(image, cropSqure):\n",
        "  image = image.crop(cropSqure)\n",
        "  result_np_arr = getNpArrayMonochromeFromImage(image)\n",
        "  return result_np_arr"
      ],
      "metadata": {
        "id": "nF6Zf58vDEby"
      },
      "execution_count": null,
      "outputs": []
    },
    {
      "cell_type": "code",
      "source": [
        "def setTopLeftAndBottomRightAppropriateBrightnesses(np_arr):\n",
        "  #print(np_arr.shape)\n",
        "  N = np_arr.shape[0]\n",
        "  for i in range(N // 2):\n",
        "    for j in range(N // 2):\n",
        "      #print(f'i={i}, N//2= {N//2}, i + N // 2 ={i + N // 2}')\n",
        "      np_arr[i,j] = np_arr[i + N // 2, j]\n",
        "  for i in range(N // 2, N):\n",
        "    for j in range(N // 2, N):\n",
        "      np_arr[i,j] = np_arr[i - N // 2, j]\n",
        "\n",
        "  return np_arr"
      ],
      "metadata": {
        "id": "qi0Y-03N4EEV"
      },
      "execution_count": null,
      "outputs": []
    },
    {
      "cell_type": "markdown",
      "source": [
        "## Orientation"
      ],
      "metadata": {
        "id": "mO8UC4yBARMf"
      }
    },
    {
      "cell_type": "code",
      "source": [
        "def getAngleByFindingOrientation(np_arr):\n",
        "\n",
        "  np_arr[np_arr == 255 ] = 1\n",
        "\n",
        "  N = np_arr.shape\n",
        "  A = 0\n",
        "  for i in range(np_arr.shape):\n",
        "    A += sum(np_arr[:, i])\n",
        "\n",
        "  sum_x = 0\n",
        "  sum_y = 0\n",
        "  for i in range(np_arr.shape):\n",
        "    sum_x += (i + 1) * sum(np_arr[:,i])\n",
        "    sum_y += (i + 1) * sum(np_arr[i,:])\n",
        "\n",
        "  x_streak = sum_x / A\n",
        "  y_streak = sum_y / A\n",
        "  # центры тяжести (масс)"
      ],
      "metadata": {
        "id": "WlsMbIltAvtd"
      },
      "execution_count": null,
      "outputs": []
    },
    {
      "cell_type": "markdown",
      "source": [
        "##Start point"
      ],
      "metadata": {
        "id": "4xfsZj42MIGx"
      }
    },
    {
      "cell_type": "code",
      "source": [
        "image_name = 'cut_blue_2'\n",
        "image_format = 'jpg'\n",
        "baseimage = Image.open(f'{image_name}.{image_format}')\n",
        "#image = image.rotate(90)\n",
        "  # image.save(\"rotate_image.jpg\")\n",
        "  # 1.1, 1.2.\n",
        "for i in range(0,4):\n",
        "  #os.mkdir(f'{image_name}_{i}')\n",
        "  N, M = baseimage.size\n",
        "  if i == 0:\n",
        "    image = baseimage.crop((0,0, N,M/2))\n",
        "  elif i == 1:\n",
        "    image = baseimage.crop((0,M/2, N,M))\n",
        "  elif i == 2:\n",
        "    image = baseimage.crop((0,M/4, N,M*3/4))\n",
        "  else:\n",
        "    image = baseimage\n",
        "  image.save(f'{image_name}_{i}/baseimage.jpg')\n",
        "  cropped_image = cropImageForFFT(image)\n",
        "\n",
        "\n",
        "  # 1.3, 1.5.\n",
        "  np_array = getNpArrayMonochromeFromImage(cropped_image)\n",
        "  # image = getImageFromMonochromeNpArray(np_array)\n",
        "  # image.save('before_light_image.jpg')\n",
        "\n",
        "  # todo: 1.4.\n",
        "  np_array = applyLightSpotOnImage(np_array)\n",
        "\n",
        "  image = getImageFromMonochromeNpArray(np_array)\n",
        "  #image.save(f'{image_name}_{i}/after_light_image.jpg')\n",
        "\n",
        "  # 1.6, 1.7.\n",
        "  np_complex_array = computeFFTOnRowsAndColumns(np_array)\n",
        "\n",
        "  # 1.8.\n",
        "  np_array_brightness = getArrayOfBrightnessFromArrayOfComplex(np_complex_array)\n",
        "\n",
        "  np_array_brightness = setTopLeftAndBottomRightAppropriateBrightnesses(np_array_brightness)\n",
        "\n",
        "  # 1.9.\n",
        "  image = getImageFromMonochromeNpArray(np_array_brightness)\n",
        "  #image.save(f'{image_name}_{i}/finalized_image.jpg')\n",
        "\n",
        "\n",
        "  N = np_array_brightness.shape[0]\n",
        "  left_down_square_to_crop = (N/2,0,N,N/2)\n",
        "  right_top_square_to_crop = (0,N/2,N/2,N)\n",
        "  center_square_to_crop = (N // 4, N // 4, N * 3 // 4, N * 3 // 4)\n",
        "\n",
        "  # left_np_arr = getNpArrayFromImageWithCrop(image, left_down_square_to_crop)\n",
        "  # #left_np_arr = setAverageBrightnesses(left_np_arr)\n",
        "  # left_image = getImageFromMonochromeNpArray(left_np_arr)\n",
        "\n",
        "  # angle, x1, y1, x2, y2, list_of_points_left = getAngleOfBrightestLine(left_np_arr)\n",
        "\n",
        "  # left_image = drawRedLineOnImage(left_image, x1, y1, x2, y2)\n",
        "  # print('/left image angle: ', angle)\n",
        "\n",
        "  # right_np_arr = getNpArrayFromImageWithCrop(image, right_top_square_to_crop)\n",
        "  # right_np_arr = setAverageBrightnesses(right_np_arr)\n",
        "  # right_image = getImageFromMonochromeNpArray(right_np_arr)\n",
        "\n",
        "  # angle, x1, y1, x2, y2, list_of_points_right = getAngleOfBrightestLine(right_np_arr)\n",
        "  # right_image = drawRedLineOnImage(right_image, x1, y1, x2, y2)\n",
        "  # print('/right image angle: ', angle)\n",
        "\n",
        "  center_np_arr = getNpArrayFromImageWithCrop(image, center_square_to_crop)\n",
        "  center_np_arr = setAverageBrightnesses(center_np_arr)\n",
        "\n",
        "  angle, x1, y1, x2, y2, list_of_points_center = getAngleOfBrightestLine(center_np_arr)\n",
        "  center_image = getImageFromMonochromeNpArray(center_np_arr)\n",
        "  print('list:')\n",
        "  center_image.save(f'{image_name}_{i}/third_attempt withoutRL.jpg')\n",
        "  # test_np_arr = getNpArrayFromImageWithCrop(image, center_square_to_crop)\n",
        "  # test_np_arr = setAverageBrightnesses(test_np_arr)\n",
        "  # for i in list_of_points_center:\n",
        "  #   x = i[1]\n",
        "  #   y = i[0]\n",
        "  #   center_image.putpixel((x, y), (255, 0, 0))\n",
        "  #   print(f'x={x}, y={y}, np_arr[x,y]={test_np_arr[x,y]}')\n",
        "\n",
        "\n",
        "  center_image = drawRedLineOnImage(center_image, x1, y1, x2, y2)\n",
        "  print('center image angle: ', angle, x1, y1, x2, y2)\n",
        "\n",
        "\n",
        "\n",
        "  # left_image.save(f'{image_name}/first_attempt.jpg')\n",
        "  # right_image.save(f'{image_name}/second_attempt.jpg')\n",
        "  center_image.save(f'{image_name}_{i}/final.jpg')"
      ],
      "metadata": {
        "id": "sKfEd7ClMHG5"
      },
      "execution_count": null,
      "outputs": []
    }
  ]
}